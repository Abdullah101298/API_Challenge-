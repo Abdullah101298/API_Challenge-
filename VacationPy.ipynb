{
 "cells": [
  {
   "cell_type": "markdown",
   "metadata": {},
   "source": [
    "# Part 2 - VacationPy"
   ]
  },
  {
   "cell_type": "markdown",
   "metadata": {},
   "source": [
    "## Background\n",
    "In this project, we will be analyzing data from the google places API in order to create a heatmap and find hotels based on different parameters. We will also mark the locations of these hotels on the heatmap. \n",
    "\n",
    "Our first objective is to import our libraries, read the csv, and begin creating the heatmap. "
   ]
  },
  {
   "cell_type": "code",
   "execution_count": null,
   "metadata": {},
   "outputs": [],
   "source": [
    "import matplotlib.pyplot as plt\n",
    "import pandas as pd\n",
    "import numpy as np\n",
    "import requests\n",
    "import gmaps\n",
    "import os\n",
    "\n",
    "# Import API key\n",
    "try: \n",
    "    from config import gkey \n",
    "except: \n",
    "    print(\"Change File Path to where Config File\")"
   ]
  },
  {
   "cell_type": "markdown",
   "metadata": {},
   "source": [
    "### Task 1: Reading the CSV from the WeatherPy Notebook and displaying it. "
   ]
  },
  {
   "cell_type": "code",
   "execution_count": null,
   "metadata": {},
   "outputs": [],
   "source": [
    "Datapd = pd.read_csv('output_data/cities.csv')\n",
    "Datapd.dropna()\n",
    "Datapd.head()"
   ]
  },
  {
   "cell_type": "markdown",
   "metadata": {},
   "source": [
    "### Task 2: Configuring gmaps and Isolating Coordinates and Humidity. "
   ]
  },
  {
   "cell_type": "code",
   "execution_count": null,
   "metadata": {},
   "outputs": [],
   "source": [
    "# Configure gmaps\n",
    "gmaps.configure(api_key=gkey)\n",
    "\n",
    "#Seperating Data from Data Frame \n",
    "coordinates = Datapd[['Latitude','Longitude']].astype(float)\n",
    "humidity = Datapd[\"Humidity\"].astype(float)"
   ]
  },
  {
   "cell_type": "markdown",
   "metadata": {},
   "source": [
    "### Task 3: Building the Heatmap Layer and Adding it. "
   ]
  },
  {
   "cell_type": "code",
   "execution_count": null,
   "metadata": {},
   "outputs": [],
   "source": [
    "#Humidity Heatmap \n",
    "\n",
    "fig = gmaps.figure()\n",
    "\n",
    "heat_layer = gmaps.heatmap_layer(coordinates, humidity, \n",
    "                                 dissipating=False, max_intensity=100,\n",
    "                                 point_radius = 3)\n",
    "\n",
    "fig.add_layer(heat_layer)\n",
    "\n",
    "fig"
   ]
  },
  {
   "cell_type": "markdown",
   "metadata": {},
   "source": [
    "### Task 4: Specifying my Ideal weather Conditions and Creating a New Data Frame Containing Narrowed Cities.\n",
    "\n",
    "The parameters I used are \n",
    "       \n",
    "        (1) Max Temperature between 60 and 80 degrees Farenheit. \n",
    "        (2) Wind Speed less than 5 mph. \n",
    "        (3) Cloudiness less than 1. "
   ]
  },
  {
   "cell_type": "code",
   "execution_count": null,
   "metadata": {},
   "outputs": [],
   "source": [
    "#  Create new DataFrame fitting weather criteria\n",
    "\n",
    "Max_Temp_Array = Datapd[\"Max Temperature\"].astype(float)\n",
    "Windspeed_Array = Datapd[\"Wind Speed\"].astype(float)\n",
    "Cloudiness_Array = Datapd[\"Cloudiness\"].astype(float)\n",
    "latitudes_Array = Datapd[\"Latitude\"].astype(float)\n",
    "longitudes_Array = Datapd[\"Longitude\"].astype(float)\n",
    "cities_array = Datapd[\"City\"]\n",
    "Country_Array = Datapd[\"Country\"]\n",
    "\n",
    "latitudes = []\n",
    "longitudes = []\n",
    "cities = []\n",
    "country = []\n",
    "maxtemp = []\n",
    "cloudiness = []\n",
    "windspeed = []\n",
    "\n",
    "\n",
    "for i in range(len(humidity)):\n",
    "    if Max_Temp_Array[i] <=80 and Max_Temp_Array[i] >=60 and Windspeed_Array[i] < 5 and Cloudiness_Array[i] < 3:\n",
    "        latitudes.append(latitudes_Array[i])\n",
    "        longitudes.append(longitudes_Array[i])\n",
    "        cities.append(cities_array[i])\n",
    "        country.append(Country_Array[i])\n",
    "        maxtemp.append(Max_Temp_Array[i])\n",
    "        cloudiness.append(Cloudiness_Array[i])\n",
    "        windspeed.append(Windspeed_Array[i])\n",
    "   \n",
    "narrowed_city_df = pd.DataFrame({'City': cities,\n",
    "                                 'Country' : country,\n",
    "                                 'Cloudiness': cloudiness,\n",
    "                                 'Max Temperature' : maxtemp,\n",
    "                                 'Lat' : latitudes, \n",
    "                                 'Lng' : longitudes,\n",
    "                                 'Wind Speed' : windspeed\n",
    "                                })"
   ]
  },
  {
   "cell_type": "markdown",
   "metadata": {},
   "source": [
    "### Task 5: Searching for Hotels within Radius of my Narrowed Cities and Stored the Hotel Results in a Data Frame. "
   ]
  },
  {
   "cell_type": "code",
   "execution_count": null,
   "metadata": {},
   "outputs": [],
   "source": [
    "target_type = \"Hotels\"\n",
    "radius = 5000\n",
    "base_url = \"https://maps.googleapis.com/maps/api/place/nearbysearch/json\"\n",
    "marker_latitude = []\n",
    "marker_longitude = []\n",
    "hotel_name = []\n",
    "\n",
    "for t in range(len(latitudes)): \n",
    "    params = {\n",
    "    \"location\": f\"{latitudes[t]},{longitudes[t]}\",\n",
    "    \"types\": target_type,\n",
    "    \"radius\": radius,\n",
    "    \"key\": gkey\n",
    "    }\n",
    "    response = requests.get(base_url , params)\n",
    "    hotels_near = response.json()\n",
    "    hotel_name.append(hotels_near['results'][0]['name'])\n",
    "    marker_latitude.append(hotels_near['results'][0]['geometry']['location']['lat'])\n",
    "    marker_longitude.append(hotels_near['results'][0]['geometry']['location']['lng'])\n",
    "    \n",
    "hotelname = pd.DataFrame(hotel_name)    \n",
    "hotel_df = pd.concat([hotelname, narrowed_city_df],axis=1)\n",
    "hotel_df.rename(columns = {0 : \"Hotel Name\"}).head()"
   ]
  },
  {
   "cell_type": "markdown",
   "metadata": {},
   "source": [
    "### Task 6: Building Marker Layers and Adding Them to the Heat Map Created Earlier. "
   ]
  },
  {
   "cell_type": "code",
   "execution_count": null,
   "metadata": {},
   "outputs": [],
   "source": [
    "fig1 = gmaps.figure()\n",
    "\n",
    "narrowed_city_df[\"Hotel Name\"] = hotelname\n",
    "info_box_template = \"\"\"\n",
    "<dl>\n",
    "<dt>Name</dt><dd>{Hotel Name}</dd>\n",
    "<dt>City</dt><dd>{City}</dd>\n",
    "<dt>Country</dt><dd>{Country}</dd>\n",
    "</dl>\n",
    "\"\"\"\n",
    "\n",
    "hotel_info = [info_box_template.format(**row) for index, row in narrowed_city_df.iterrows()]\n",
    "locations = hotel_df[[\"Lat\", \"Lng\"]]\n",
    "markers = gmaps.marker_layer(locations, info_box_content = hotel_info)\n",
    "heat_layer1 = gmaps.heatmap_layer(coordinates, humidity, \n",
    "                                 dissipating=False, max_intensity=100,\n",
    "                                 point_radius = 2)\n",
    "fig1.add_layer(heat_layer1)\n",
    "fig1.add_layer(markers)\n",
    "fig1"
   ]
  }
 ],
 "metadata": {
  "kernelspec": {
   "display_name": "Python 3",
   "language": "python",
   "name": "python3"
  },
  "language_info": {
   "codemirror_mode": {
    "name": "ipython",
    "version": 3
   },
   "file_extension": ".py",
   "mimetype": "text/x-python",
   "name": "python",
   "nbconvert_exporter": "python",
   "pygments_lexer": "ipython3",
   "version": "3.7.4"
  }
 },
 "nbformat": 4,
 "nbformat_minor": 2
}

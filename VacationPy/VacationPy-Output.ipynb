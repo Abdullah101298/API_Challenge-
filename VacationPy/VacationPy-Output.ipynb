{
 "cells": [
  {
   "cell_type": "markdown",
   "metadata": {},
   "source": [
    "# Part 2 - VacationPy"
   ]
  },
  {
   "cell_type": "markdown",
   "metadata": {},
   "source": [
    "## Background\n",
    "In this project, we will be analyzing data from the google places API in order to create a heatmap and find hotels based on different parameters. We will also mark the locations of these hotels on the heatmap. \n",
    "\n",
    "Our first objective is to import our libraries, read the csv, and begin creating the heatmap. "
   ]
  },
  {
   "cell_type": "code",
   "execution_count": 1,
   "metadata": {},
   "outputs": [],
   "source": [
    "import matplotlib.pyplot as plt\n",
    "import pandas as pd\n",
    "import numpy as np\n",
    "import requests\n",
    "import gmaps\n",
    "import os\n",
    "\n",
    "# Import API key\n",
    "from config import gkey"
   ]
  },
  {
   "cell_type": "markdown",
   "metadata": {},
   "source": [
    "### Task 1: Reading the CSV from the WeatherPy Notebook and displaying it. "
   ]
  },
  {
   "cell_type": "code",
   "execution_count": 2,
   "metadata": {},
   "outputs": [
    {
     "data": {
      "text/html": [
       "<div>\n",
       "<style scoped>\n",
       "    .dataframe tbody tr th:only-of-type {\n",
       "        vertical-align: middle;\n",
       "    }\n",
       "\n",
       "    .dataframe tbody tr th {\n",
       "        vertical-align: top;\n",
       "    }\n",
       "\n",
       "    .dataframe thead th {\n",
       "        text-align: right;\n",
       "    }\n",
       "</style>\n",
       "<table border=\"1\" class=\"dataframe\">\n",
       "  <thead>\n",
       "    <tr style=\"text-align: right;\">\n",
       "      <th></th>\n",
       "      <th>City</th>\n",
       "      <th>Cloudiness</th>\n",
       "      <th>Country</th>\n",
       "      <th>Date</th>\n",
       "      <th>Humidity</th>\n",
       "      <th>Latitude</th>\n",
       "      <th>Longitude</th>\n",
       "      <th>Max Temperature</th>\n",
       "      <th>Wind Speed</th>\n",
       "    </tr>\n",
       "  </thead>\n",
       "  <tbody>\n",
       "    <tr>\n",
       "      <td>0</td>\n",
       "      <td>Qaanaaq</td>\n",
       "      <td>0</td>\n",
       "      <td>GL</td>\n",
       "      <td>1584034966</td>\n",
       "      <td>47</td>\n",
       "      <td>77.48</td>\n",
       "      <td>-69.36</td>\n",
       "      <td>-17.32</td>\n",
       "      <td>5.75</td>\n",
       "    </tr>\n",
       "    <tr>\n",
       "      <td>1</td>\n",
       "      <td>Mutoko</td>\n",
       "      <td>68</td>\n",
       "      <td>ZW</td>\n",
       "      <td>1584034966</td>\n",
       "      <td>86</td>\n",
       "      <td>-17.40</td>\n",
       "      <td>32.23</td>\n",
       "      <td>68.36</td>\n",
       "      <td>5.73</td>\n",
       "    </tr>\n",
       "    <tr>\n",
       "      <td>2</td>\n",
       "      <td>Ancud</td>\n",
       "      <td>90</td>\n",
       "      <td>CL</td>\n",
       "      <td>1584034966</td>\n",
       "      <td>100</td>\n",
       "      <td>-41.87</td>\n",
       "      <td>-73.82</td>\n",
       "      <td>59.00</td>\n",
       "      <td>10.29</td>\n",
       "    </tr>\n",
       "    <tr>\n",
       "      <td>3</td>\n",
       "      <td>Tarauacá</td>\n",
       "      <td>15</td>\n",
       "      <td>BR</td>\n",
       "      <td>1584034806</td>\n",
       "      <td>37</td>\n",
       "      <td>-8.16</td>\n",
       "      <td>-70.77</td>\n",
       "      <td>98.96</td>\n",
       "      <td>1.41</td>\n",
       "    </tr>\n",
       "    <tr>\n",
       "      <td>4</td>\n",
       "      <td>Busselton</td>\n",
       "      <td>86</td>\n",
       "      <td>AU</td>\n",
       "      <td>1584034966</td>\n",
       "      <td>39</td>\n",
       "      <td>-33.65</td>\n",
       "      <td>115.33</td>\n",
       "      <td>66.00</td>\n",
       "      <td>17.11</td>\n",
       "    </tr>\n",
       "  </tbody>\n",
       "</table>\n",
       "</div>"
      ],
      "text/plain": [
       "        City  Cloudiness Country        Date  Humidity  Latitude  Longitude  \\\n",
       "0    Qaanaaq           0      GL  1584034966        47     77.48     -69.36   \n",
       "1     Mutoko          68      ZW  1584034966        86    -17.40      32.23   \n",
       "2      Ancud          90      CL  1584034966       100    -41.87     -73.82   \n",
       "3   Tarauacá          15      BR  1584034806        37     -8.16     -70.77   \n",
       "4  Busselton          86      AU  1584034966        39    -33.65     115.33   \n",
       "\n",
       "   Max Temperature  Wind Speed  \n",
       "0           -17.32        5.75  \n",
       "1            68.36        5.73  \n",
       "2            59.00       10.29  \n",
       "3            98.96        1.41  \n",
       "4            66.00       17.11  "
      ]
     },
     "execution_count": 2,
     "metadata": {},
     "output_type": "execute_result"
    }
   ],
   "source": [
    "Datapd = pd.read_csv('output_data/cities.csv')\n",
    "Datapd.dropna()\n",
    "Datapd.head()"
   ]
  },
  {
   "cell_type": "markdown",
   "metadata": {},
   "source": [
    "### Task 2: Configuring gmaps and Isolating Coordinates and Humidity. "
   ]
  },
  {
   "cell_type": "code",
   "execution_count": 3,
   "metadata": {},
   "outputs": [],
   "source": [
    "# Configure gmaps\n",
    "gmaps.configure(api_key=gkey)\n",
    "\n",
    "#Seperating Data from Data Frame \n",
    "coordinates = Datapd[['Latitude','Longitude']].astype(float)\n",
    "humidity = Datapd[\"Humidity\"].astype(float)"
   ]
  },
  {
   "cell_type": "markdown",
   "metadata": {},
   "source": [
    "### Task 3: Building the Heatmap Layer and Adding it. "
   ]
  },
  {
   "cell_type": "code",
   "execution_count": 4,
   "metadata": {},
   "outputs": [
    {
     "data": {
      "application/vnd.jupyter.widget-view+json": {
       "model_id": "1fed8e6c3311444e919334e05211bf6e",
       "version_major": 2,
       "version_minor": 0
      },
      "text/plain": [
       "Figure(layout=FigureLayout(height='420px'))"
      ]
     },
     "metadata": {},
     "output_type": "display_data"
    }
   ],
   "source": [
    "#Humidity Heatmap \n",
    "\n",
    "fig = gmaps.figure()\n",
    "\n",
    "heat_layer = gmaps.heatmap_layer(coordinates, humidity, \n",
    "                                 dissipating=False, max_intensity=100,\n",
    "                                 point_radius = 3)\n",
    "\n",
    "fig.add_layer(heat_layer)\n",
    "\n",
    "fig"
   ]
  },
  {
   "cell_type": "markdown",
   "metadata": {},
   "source": [
    "### Task 4: Specifying my Ideal weather Conditions and Creating a New Data Frame Containing Narrowed Cities.\n",
    "\n",
    "The parameters I used are \n",
    "       \n",
    "        (1) Max Temperature between 60 and 80 degrees Farenheit. \n",
    "        (2) Wind Speed less than 5 mph. \n",
    "        (3) Cloudiness less than 1. "
   ]
  },
  {
   "cell_type": "code",
   "execution_count": 5,
   "metadata": {},
   "outputs": [],
   "source": [
    "#  Create new DataFrame fitting weather criteria\n",
    "\n",
    "Max_Temp_Array = Datapd[\"Max Temperature\"].astype(float)\n",
    "Windspeed_Array = Datapd[\"Wind Speed\"].astype(float)\n",
    "Cloudiness_Array = Datapd[\"Cloudiness\"].astype(float)\n",
    "latitudes_Array = Datapd[\"Latitude\"].astype(float)\n",
    "longitudes_Array = Datapd[\"Longitude\"].astype(float)\n",
    "cities_array = Datapd[\"City\"]\n",
    "Country_Array = Datapd[\"Country\"]\n",
    "\n",
    "latitudes = []\n",
    "longitudes = []\n",
    "cities = []\n",
    "country = []\n",
    "maxtemp = []\n",
    "cloudiness = []\n",
    "windspeed = []\n",
    "\n",
    "\n",
    "for i in range(len(humidity)):\n",
    "    if Max_Temp_Array[i] <=80 and Max_Temp_Array[i] >=60 and Windspeed_Array[i] < 5 and Cloudiness_Array[i] < 3:\n",
    "        latitudes.append(latitudes_Array[i])\n",
    "        longitudes.append(longitudes_Array[i])\n",
    "        cities.append(cities_array[i])\n",
    "        country.append(Country_Array[i])\n",
    "        maxtemp.append(Max_Temp_Array[i])\n",
    "        cloudiness.append(Cloudiness_Array[i])\n",
    "        windspeed.append(Windspeed_Array[i])\n",
    "   \n",
    "narrowed_city_df = pd.DataFrame({'City': cities,\n",
    "                                 'Country' : country,\n",
    "                                 'Cloudiness': cloudiness,\n",
    "                                 'Max Temperature' : maxtemp,\n",
    "                                 'Lat' : latitudes, \n",
    "                                 'Lng' : longitudes,\n",
    "                                 'Wind Speed' : windspeed\n",
    "                                })"
   ]
  },
  {
   "cell_type": "markdown",
   "metadata": {},
   "source": [
    "### Task 5: Searching for Hotels within Radius of my Narrowed Cities and Stored the Hotel Results in a Data Frame. "
   ]
  },
  {
   "cell_type": "code",
   "execution_count": 6,
   "metadata": {},
   "outputs": [
    {
     "data": {
      "text/html": [
       "<div>\n",
       "<style scoped>\n",
       "    .dataframe tbody tr th:only-of-type {\n",
       "        vertical-align: middle;\n",
       "    }\n",
       "\n",
       "    .dataframe tbody tr th {\n",
       "        vertical-align: top;\n",
       "    }\n",
       "\n",
       "    .dataframe thead th {\n",
       "        text-align: right;\n",
       "    }\n",
       "</style>\n",
       "<table border=\"1\" class=\"dataframe\">\n",
       "  <thead>\n",
       "    <tr style=\"text-align: right;\">\n",
       "      <th></th>\n",
       "      <th>Hotel Name</th>\n",
       "      <th>City</th>\n",
       "      <th>Country</th>\n",
       "      <th>Cloudiness</th>\n",
       "      <th>Max Temperature</th>\n",
       "      <th>Lat</th>\n",
       "      <th>Lng</th>\n",
       "      <th>Wind Speed</th>\n",
       "    </tr>\n",
       "  </thead>\n",
       "  <tbody>\n",
       "    <tr>\n",
       "      <td>0</td>\n",
       "      <td>Lompoc</td>\n",
       "      <td>Lompoc</td>\n",
       "      <td>US</td>\n",
       "      <td>1.0</td>\n",
       "      <td>66.99</td>\n",
       "      <td>34.64</td>\n",
       "      <td>-120.46</td>\n",
       "      <td>4.70</td>\n",
       "    </tr>\n",
       "    <tr>\n",
       "      <td>1</td>\n",
       "      <td>Pyin Oo Lwin</td>\n",
       "      <td>Pyn U Lwin</td>\n",
       "      <td>MM</td>\n",
       "      <td>0.0</td>\n",
       "      <td>71.06</td>\n",
       "      <td>22.03</td>\n",
       "      <td>96.47</td>\n",
       "      <td>1.74</td>\n",
       "    </tr>\n",
       "    <tr>\n",
       "      <td>2</td>\n",
       "      <td>Alice Springs</td>\n",
       "      <td>Alice Springs</td>\n",
       "      <td>AU</td>\n",
       "      <td>0.0</td>\n",
       "      <td>73.40</td>\n",
       "      <td>-23.70</td>\n",
       "      <td>133.88</td>\n",
       "      <td>4.52</td>\n",
       "    </tr>\n",
       "    <tr>\n",
       "      <td>3</td>\n",
       "      <td>Tura</td>\n",
       "      <td>Tura</td>\n",
       "      <td>IN</td>\n",
       "      <td>0.0</td>\n",
       "      <td>73.94</td>\n",
       "      <td>25.52</td>\n",
       "      <td>90.22</td>\n",
       "      <td>3.36</td>\n",
       "    </tr>\n",
       "    <tr>\n",
       "      <td>4</td>\n",
       "      <td>Cà Mau</td>\n",
       "      <td>Ca Mau</td>\n",
       "      <td>VN</td>\n",
       "      <td>0.0</td>\n",
       "      <td>75.56</td>\n",
       "      <td>9.18</td>\n",
       "      <td>105.15</td>\n",
       "      <td>3.24</td>\n",
       "    </tr>\n",
       "  </tbody>\n",
       "</table>\n",
       "</div>"
      ],
      "text/plain": [
       "      Hotel Name           City Country  Cloudiness  Max Temperature    Lat  \\\n",
       "0         Lompoc         Lompoc      US         1.0            66.99  34.64   \n",
       "1   Pyin Oo Lwin     Pyn U Lwin      MM         0.0            71.06  22.03   \n",
       "2  Alice Springs  Alice Springs      AU         0.0            73.40 -23.70   \n",
       "3           Tura           Tura      IN         0.0            73.94  25.52   \n",
       "4         Cà Mau         Ca Mau      VN         0.0            75.56   9.18   \n",
       "\n",
       "      Lng  Wind Speed  \n",
       "0 -120.46        4.70  \n",
       "1   96.47        1.74  \n",
       "2  133.88        4.52  \n",
       "3   90.22        3.36  \n",
       "4  105.15        3.24  "
      ]
     },
     "execution_count": 6,
     "metadata": {},
     "output_type": "execute_result"
    }
   ],
   "source": [
    "target_type = \"Hotels\"\n",
    "radius = 5000\n",
    "base_url = \"https://maps.googleapis.com/maps/api/place/nearbysearch/json\"\n",
    "marker_latitude = []\n",
    "marker_longitude = []\n",
    "hotel_name = []\n",
    "\n",
    "for t in range(len(latitudes)): \n",
    "    params = {\n",
    "    \"location\": f\"{latitudes[t]},{longitudes[t]}\",\n",
    "    \"types\": target_type,\n",
    "    \"radius\": radius,\n",
    "    \"key\": gkey\n",
    "    }\n",
    "    response = requests.get(base_url , params)\n",
    "    hotels_near = response.json()\n",
    "    hotel_name.append(hotels_near['results'][0]['name'])\n",
    "    marker_latitude.append(hotels_near['results'][0]['geometry']['location']['lat'])\n",
    "    marker_longitude.append(hotels_near['results'][0]['geometry']['location']['lng'])\n",
    "    \n",
    "hotelname = pd.DataFrame(hotel_name)    \n",
    "hotel_df = pd.concat([hotelname, narrowed_city_df],axis=1)\n",
    "hotel_df.rename(columns = {0 : \"Hotel Name\"}).head()"
   ]
  },
  {
   "cell_type": "markdown",
   "metadata": {},
   "source": [
    "### Task 6: Building Marker Layers and Adding Them to the Heat Map Created Earlier. "
   ]
  },
  {
   "cell_type": "code",
   "execution_count": 7,
   "metadata": {},
   "outputs": [
    {
     "data": {
      "application/vnd.jupyter.widget-view+json": {
       "model_id": "77fe5c860d2f4b44af07d835aec38b28",
       "version_major": 2,
       "version_minor": 0
      },
      "text/plain": [
       "Figure(layout=FigureLayout(height='420px'))"
      ]
     },
     "metadata": {},
     "output_type": "display_data"
    }
   ],
   "source": [
    "fig1 = gmaps.figure()\n",
    "\n",
    "narrowed_city_df[\"Hotel Name\"] = hotelname\n",
    "info_box_template = \"\"\"\n",
    "<dl>\n",
    "<dt>Name</dt><dd>{Hotel Name}</dd>\n",
    "<dt>City</dt><dd>{City}</dd>\n",
    "<dt>Country</dt><dd>{Country}</dd>\n",
    "</dl>\n",
    "\"\"\"\n",
    "\n",
    "hotel_info = [info_box_template.format(**row) for index, row in narrowed_city_df.iterrows()]\n",
    "locations = hotel_df[[\"Lat\", \"Lng\"]]\n",
    "markers = gmaps.marker_layer(locations, info_box_content = hotel_info)\n",
    "heat_layer1 = gmaps.heatmap_layer(coordinates, humidity, \n",
    "                                 dissipating=False, max_intensity=100,\n",
    "                                 point_radius = 2)\n",
    "fig1.add_layer(heat_layer1)\n",
    "fig1.add_layer(markers)\n",
    "fig1"
   ]
  }
 ],
 "metadata": {
  "kernelspec": {
   "display_name": "Python 3",
   "language": "python",
   "name": "python3"
  },
  "language_info": {
   "codemirror_mode": {
    "name": "ipython",
    "version": 3
   },
   "file_extension": ".py",
   "mimetype": "text/x-python",
   "name": "python",
   "nbconvert_exporter": "python",
   "pygments_lexer": "ipython3",
   "version": "3.7.4"
  }
 },
 "nbformat": 4,
 "nbformat_minor": 2
}

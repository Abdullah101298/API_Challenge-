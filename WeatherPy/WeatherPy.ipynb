{
 "cells": [
  {
   "cell_type": "markdown",
   "metadata": {},
   "source": [
    "# Part I - WeatherPy "
   ]
  },
  {
   "cell_type": "markdown",
   "metadata": {},
   "source": [
    "### Background \n",
    "In this project, we will be analyzing data from the Openweathermap API in order to analyze the effect of latitude on different factors such as humidity, cloudiness, etc. The cities to be analyze will be generated randomly by randomizing different latitudes and gathering cities on those latitudes. \n",
    "\n",
    "Our first objective is to import our libraries, randomize our latitudes/longtitudes, and gather the cities we will be analyzing as well as their information in a Data Frame. "
   ]
  },
  {
   "cell_type": "code",
   "execution_count": null,
   "metadata": {},
   "outputs": [],
   "source": [
    "#Part I - WeatherPy\n",
    "\n",
    "# Dependencies and Setup\n",
    "import matplotlib.pyplot as plt\n",
    "import pandas as pd\n",
    "import numpy as np\n",
    "import requests\n",
    "import time\n",
    "from scipy.stats import linregress\n",
    "from scipy import stats\n",
    "\n",
    "# Import API key\n",
    "from config import API_Key\n",
    "\n",
    "# Incorporated citipy to determine city based on latitude and longitude\n",
    "from citipy import citipy\n",
    "\n",
    "# Output File (CSV)\n",
    "output_data_file = \"output_data/cities.csv\"\n",
    "\n",
    "#Output File (PNG)\n",
    "output_data_file1 = \"output_data/LatitudevsMaxTemp.png\"\n",
    "output_data_file2 = \"output_data/LatitudevsHumidity.png\"\n",
    "output_data_file3 = \"output_data/LatitudevsCloudiness.png\"\n",
    "output_data_file4 = \"output_data/LatitudevsWindspeed.png\"\n",
    "\n",
    "# Range of latitudes and longitudes\n",
    "lat_range = (-90, 90)\n",
    "lng_range = (-180, 180)"
   ]
  },
  {
   "cell_type": "markdown",
   "metadata": {},
   "source": [
    "### Task 1: Randomizing the Latitude and Longitude Combination & Getting our List of Cities. "
   ]
  },
  {
   "cell_type": "code",
   "execution_count": null,
   "metadata": {},
   "outputs": [],
   "source": [
    "lat_lngs = []\n",
    "cities = []\n",
    "\n",
    "# Create a set of random lat and lng combinations\n",
    "lats = np.random.uniform(low=-90.000, high=90.000, size=1500)\n",
    "lngs = np.random.uniform(low=-180.000, high=180.000, size=1500)\n",
    "lat_lngs = zip(lats, lngs)\n",
    "\n",
    "# Identify nearest city for each lat, lng combination\n",
    "for lat_lng in lat_lngs:\n",
    "    city = citipy.nearest_city(lat_lng[0], lat_lng[1]).city_name\n",
    "    \n",
    "    # If the city is unique, then add it to a our cities list\n",
    "    if city not in cities:\n",
    "        cities.append(city)\n"
   ]
  },
  {
   "cell_type": "markdown",
   "metadata": {},
   "source": [
    "### Task 2: Retrieving Our Data"
   ]
  },
  {
   "cell_type": "code",
   "execution_count": null,
   "metadata": {},
   "outputs": [],
   "source": [
    "print(\"Beginning Data Retrieval\")\n",
    "print(\"---------------------------\")\n",
    "print(\"\")\n",
    "n=0\n",
    "n1 = 1 \n",
    "\n",
    "#Defining the URL of the API \n",
    "url = 'http://api.openweathermap.org/data/2.5/weather?'\n",
    "units = \"imperial\"\n",
    "\n",
    "query_url = f\"{url}appid={API_Key}&units={units}&q=\"\n",
    "\n",
    "#Creating for loop to loop through the cities array \n",
    "#For each value, get the API and check if there is \n",
    "#an error or not. \n",
    "#If there isn't an error, print the record is being processed. \n",
    "for row in cities: \n",
    "    try: \n",
    "        response1 = requests.get(query_url + row)\n",
    "        if response1.status_code == 404: \n",
    "            print(\"City not found. Skipping...\")\n",
    "            n=n-1\n",
    "        else: \n",
    "            print(f\"Processing Record {n} of Set {n1} | {row}\")\n",
    "        if n == 50: \n",
    "            n1 = n1+1 \n",
    "            n=0     \n",
    "        n=n+1    \n",
    "    except: \n",
    "            print(\"Error\")\n",
    "            pass\n",
    "\n",
    "print(\"-------------------------\")\n",
    "print(\"Data Retrieval Complete\")\n",
    "print(\"-------------------------\")"
   ]
  },
  {
   "cell_type": "markdown",
   "metadata": {},
   "source": [
    "### Task 3: Converting our API to JSON and Extracting Needed Data to a Data Frame. "
   ]
  },
  {
   "cell_type": "code",
   "execution_count": null,
   "metadata": {},
   "outputs": [],
   "source": [
    "#Defining empty arrays for a variety of variables \n",
    "json_response = []\n",
    "Cloudiness = []\n",
    "Country = []\n",
    "Date = []\n",
    "Humidity = []\n",
    "Lat = []\n",
    "Long = []\n",
    "Max_Temp = []\n",
    "Wind_Speed = []\n",
    "Cities1 = []\n",
    "    \n",
    "\n",
    "for city in cities:\n",
    "    #Get API for each city again\n",
    "    response = requests.get(query_url + city)\n",
    "    if response.status_code != 404:\n",
    "        #JSON the API \n",
    "        response_json = response.json()\n",
    "        try: \n",
    "            #Extracting various data from API to different arrays \n",
    "            Cities1.append(response_json[\"name\"])\n",
    "            Cloudiness.append(response_json[\"clouds\"][\"all\"])\n",
    "            Country.append(response_json['sys']['country'])\n",
    "            Date.append(response_json['dt'])\n",
    "            Humidity.append(response_json['main']['humidity'])\n",
    "            Lat.append(response_json['coord']['lat'])\n",
    "            Long.append(response_json['coord']['lon'])\n",
    "            Max_Temp.append(response_json['main']['temp_max'])\n",
    "            Wind_Speed.append(response_json['wind']['speed'])\n",
    "\n",
    "        except KeyError: \n",
    "            print(\"Error\")\n",
    "            pass"
   ]
  },
  {
   "cell_type": "code",
   "execution_count": null,
   "metadata": {},
   "outputs": [],
   "source": [
    "#Creating a dictionary for the arrays of interest\n",
    "weather_dict = {\n",
    "    \"City\": Cities1,\n",
    "    \"Cloudiness\": Cloudiness,\n",
    "    \"Country\" : Country, \n",
    "    \"Date\": Date,\n",
    "    \"Humidity\":Humidity, \n",
    "    \"Latitude\":Lat, \n",
    "    \"Longitude\":Long, \n",
    "    \"Max Temperature\" : Max_Temp,\n",
    "    \"Wind Speed\" : Wind_Speed\n",
    "    \n",
    "}\n",
    "\n",
    "#Converting the dictionary to a data frame \n",
    "weather_df = pd.DataFrame(weather_dict)"
   ]
  },
  {
   "cell_type": "code",
   "execution_count": null,
   "metadata": {},
   "outputs": [],
   "source": [
    "#Showing the count of each array in the data frame \n",
    "weather_df.count()"
   ]
  },
  {
   "cell_type": "code",
   "execution_count": null,
   "metadata": {},
   "outputs": [],
   "source": [
    "#Showing the head of the data frame of interest\n",
    "weather_df.head()"
   ]
  },
  {
   "cell_type": "code",
   "execution_count": null,
   "metadata": {},
   "outputs": [],
   "source": [
    "#Converting the dataframe to a csv file\n",
    "weather_df.to_csv(output_data_file, index=False, header=True)"
   ]
  },
  {
   "cell_type": "markdown",
   "metadata": {},
   "source": [
    "### Task 4: Creating a scatter plot of \n",
    "        (1) Latitude vs. Max Temperature\n",
    "        (2) Latitude vs. Humidity\n",
    "        (3) Latitude vs. Cloudiness\n",
    "        (4) Latitude vs. Wind Speed"
   ]
  },
  {
   "cell_type": "code",
   "execution_count": null,
   "metadata": {},
   "outputs": [],
   "source": [
    "#Creating a scatter plot of the Latitude vs. Max Temperature \n",
    "plt.scatter(Lat,Max_Temp, color = 'b', linewidths=.5, edgecolors = 'k')\n",
    "plt.title(\"Latitude vs Max Temperature (F)\")\n",
    "plt.xlabel('Latitude')\n",
    "plt.ylabel('Max Temperature (F)')\n",
    "plt.grid(b = True)\n",
    "\n",
    "#Saving the figure to a PNG file \n",
    "plt.savefig(output_data_file1)"
   ]
  },
  {
   "cell_type": "markdown",
   "metadata": {},
   "source": [
    "Observation: The code is analyzing the latitude of each city compared to it's maximum temperature. The higher the latitude, the lower the maximum temperature is the case for most cities. "
   ]
  },
  {
   "cell_type": "code",
   "execution_count": null,
   "metadata": {},
   "outputs": [],
   "source": [
    "#Creating a scatter plot of the Latitude vs. Humidity \n",
    "plt.scatter(Lat,Humidity, color = 'b', linewidths=.5, edgecolors = 'k')\n",
    "plt.title(\"City Latitude vs. Humidity\")\n",
    "plt.xlabel('City Latitude')\n",
    "plt.ylabel('Humidity (%)')\n",
    "plt.ylim(0,300)\n",
    "plt.grid(b = True)\n",
    "\n",
    "#Saving the figure to a PNG file\n",
    "plt.savefig(output_data_file2)"
   ]
  },
  {
   "cell_type": "markdown",
   "metadata": {},
   "source": [
    "Observation: The code is analyzing the latitude of each city compared to its humidity. "
   ]
  },
  {
   "cell_type": "code",
   "execution_count": null,
   "metadata": {},
   "outputs": [],
   "source": [
    "#Creating a scatter plot of the Latitude vs. Cloudiness \n",
    "plt.scatter(Lat,Cloudiness, color = 'b', linewidths=.5, edgecolors = 'k')\n",
    "plt.title(\"City Latitude vs. Cloudiness\")\n",
    "plt.xlabel('City Latitude')\n",
    "plt.ylabel('Cloudiness')\n",
    "plt.grid(b = True)\n",
    "\n",
    "#Saving the figure to a PNG file\n",
    "plt.savefig(output_data_file3)"
   ]
  },
  {
   "cell_type": "markdown",
   "metadata": {},
   "source": [
    "Observation: The code is analyzing the latitude of each city compared to the cloudiness of the city."
   ]
  },
  {
   "cell_type": "code",
   "execution_count": null,
   "metadata": {},
   "outputs": [],
   "source": [
    "#Creating a scatter plot of the Latitude vs. Wind Speed\n",
    "plt.scatter(Lat,Wind_Speed, color = 'b', linewidths=.5, edgecolors = 'k')\n",
    "plt.title(\"City Latitude vs. Wind Speed\")\n",
    "plt.xlabel('City Latitude')\n",
    "plt.ylabel('Wind Speed')\n",
    "plt.grid(b = True)\n",
    "\n",
    "#Saving the figure to a PNG file\n",
    "plt.savefig(output_data_file4)"
   ]
  },
  {
   "cell_type": "markdown",
   "metadata": {},
   "source": [
    "Observation: The code is analyzing the latitude of each city compared to it's wind speed. "
   ]
  },
  {
   "cell_type": "markdown",
   "metadata": {},
   "source": [
    "### Task 5: Split the Latitude Data into Northern and Southern Hemispheres"
   ]
  },
  {
   "cell_type": "code",
   "execution_count": null,
   "metadata": {},
   "outputs": [],
   "source": [
    "#Splitting the data into northern and southern hemisphere\n",
    "\n",
    "Lat_north = []\n",
    "Lat_south = []\n",
    "\n",
    "Maxtemp_north = []\n",
    "Maxtemp_south = [] \n",
    "\n",
    "Cloudiness_north = []\n",
    "Cloudiness_south = []\n",
    "\n",
    "Humidity_north = []\n",
    "Humidity_south = [] \n",
    "\n",
    "Wind_speed_north = []\n",
    "Wind_speed_south = []\n",
    "\n",
    "\n",
    "for j in range(len(Lat)): \n",
    "    #Every latitude value above 0 we are defining as in the northern hemisphere\n",
    "    if Lat[j] >= 0:\n",
    "        #Filling the arrays of interest with the values we want \n",
    "        Lat_north.append(Lat[j])\n",
    "        Maxtemp_north.append(Max_Temp[j])\n",
    "        Humidity_north.append(Humidity[j])\n",
    "        Wind_speed_north.append(Wind_Speed[j])\n",
    "        Cloudiness_north.append(Cloudiness[j])\n",
    "\n",
    "for j in range(len(Lat)): \n",
    "    #Every latitude value above 0 we are defining as in the southern hemisphere\n",
    "    if Lat[j] <= 0:\n",
    "        #Filling the arrays of interest with the values we want \n",
    "        Lat_south.append(Lat[j])\n",
    "        Maxtemp_south.append(Max_Temp[j])\n",
    "        Humidity_south.append(Humidity[j])\n",
    "        Wind_speed_south.append(Wind_Speed[j])\n",
    "        Cloudiness_south.append(Cloudiness[j])"
   ]
  },
  {
   "cell_type": "markdown",
   "metadata": {},
   "source": [
    "### Task 6: Defining a Function to Plot the Linear Regression Given a X and a Y. "
   ]
  },
  {
   "cell_type": "code",
   "execution_count": null,
   "metadata": {},
   "outputs": [],
   "source": [
    "#Defining a function that performs linear regression as we explained in class. \n",
    "def Linear_Regression(Xdata, Ydata): \n",
    "    vc_slope, vc_int, vc_r, vc_p, vc_std_err = stats.linregress(Xdata, Ydata)\n",
    "    vc_fit = vc_slope * np.asarray(Xdata) + vc_int\n",
    "    return print(f\"The r-squared is: {vc_slope}\"), plt.scatter(Xdata, Ydata), plt.plot(Xdata,vc_fit,\"-\",color = 'red'), plt.text(Xdata[-1+10],Ydata[20],f\"y = {round(vc_slope,2)}x + {round(vc_int,2)}\",color = \"red\", fontsize = 15)\n"
   ]
  },
  {
   "cell_type": "markdown",
   "metadata": {},
   "source": [
    "### Task 7: Using the Function Above to Show the Linear Regression of \n",
    "            (1) Max Temp vs. Latitude Linear Regression\n",
    "            (2) Humidity (%) vs. Latitude Linear Regression\n",
    "            (3) Cloudiness (%) vs. Latitude Linear Regression\n",
    "            (4) Wind Speed (mph) vs. Latitude Linear Regression\n",
    "### For the Northern and Southern Hemisphere"
   ]
  },
  {
   "cell_type": "code",
   "execution_count": null,
   "metadata": {},
   "outputs": [],
   "source": [
    "# Northern Hemisphere - Max Temp vs. Latitude Linear Regression\n",
    "\n",
    "Linear_Regression(Lat_north, Maxtemp_north)\n",
    "plt.xlabel('Latitude')\n",
    "plt.ylabel('Max Temperature (F)')\n",
    "plt.title('Northern Hemisphere - Max Temp vs. Latitude Linear Regression')\n"
   ]
  },
  {
   "cell_type": "code",
   "execution_count": null,
   "metadata": {},
   "outputs": [],
   "source": [
    "# Southern Hemisphere - Max Temp vs. Latitude Linear Regression\n",
    "\n",
    "Linear_Regression(Lat_south, Maxtemp_south)\n",
    "plt.xlabel('Latitude')\n",
    "plt.ylabel('Max Temperature (F)')\n",
    "plt.title('Southern Hemisphere - Max Temp vs. Latitude Linear Regression')"
   ]
  },
  {
   "cell_type": "markdown",
   "metadata": {},
   "source": [
    "Observation: In the northern hemisphere, there is a clear correlation between between the latitude and the maximum temperature. In the souther hemisphere, the correlation is less and the points vary, but there is still a correlation. "
   ]
  },
  {
   "cell_type": "code",
   "execution_count": null,
   "metadata": {},
   "outputs": [],
   "source": [
    "#  Northern Hemisphere - Humidity (%) vs. Latitude Linear Regression\n",
    "\n",
    "Linear_Regression(Lat_north, Humidity_north)\n",
    "plt.xlabel('Latitude')\n",
    "plt.ylabel('Humidity (%)')\n",
    "plt.title('Northern Hemisphere - Humidity vs. Latitude Linear Regression')"
   ]
  },
  {
   "cell_type": "code",
   "execution_count": null,
   "metadata": {},
   "outputs": [],
   "source": [
    "# Southern Hemisphere - Humidity (%) vs. Latitude Linear Regression\n",
    "\n",
    "Linear_Regression(Lat_south, Humidity_south)\n",
    "plt.xlabel('Latitude')\n",
    "plt.ylabel('Humidity (%)')\n",
    "plt.title('Southern Hemisphere - Humidity vs. Latitude Linear Regression')\n",
    "plt.ylim(0,300)"
   ]
  },
  {
   "cell_type": "markdown",
   "metadata": {},
   "source": [
    "Observation: In the northern hemisphere, the data varies greatly. The higher the latitude, the closer the data points get to each other though. In the southern hemisphere, there is not a clear correlation either. "
   ]
  },
  {
   "cell_type": "code",
   "execution_count": null,
   "metadata": {},
   "outputs": [],
   "source": [
    "#Northern Hemisphere - Cloudiness (%) vs. Latitude Linear Regression\n",
    "\n",
    "Linear_Regression(Lat_north, Cloudiness_north)\n",
    "plt.xlabel('Latitude')\n",
    "plt.ylabel('Cloudiness')\n",
    "plt.title('Northern Hemisphere - Cloudiness vs. Latitude Linear Regression')"
   ]
  },
  {
   "cell_type": "code",
   "execution_count": null,
   "metadata": {},
   "outputs": [],
   "source": [
    "#Southern Hemisphere - Cloudiness (%) vs. Latitude Linear Regression\n",
    "\n",
    "Linear_Regression(Lat_south, Cloudiness_south)\n",
    "plt.xlabel('Latitude')\n",
    "plt.ylabel('Cloudiness')\n",
    "plt.title('Southern Hemisphere - Cloudiness vs. Latitude Linear Regression')"
   ]
  },
  {
   "cell_type": "markdown",
   "metadata": {},
   "source": [
    "Observation: There does not seem to be much correlation between the latitude and the cloudiness and the correlation factor is very high at .52 in the northern hemisphere. In the southern hemisphere, the correlation and variety is even higher than for the northern hemisphere."
   ]
  },
  {
   "cell_type": "code",
   "execution_count": null,
   "metadata": {},
   "outputs": [],
   "source": [
    "#Northern Hemisphere - Wind Speed (mph) vs. Latitude Linear Regression\n",
    "\n",
    "Linear_Regression(Lat_north, Wind_speed_north)\n",
    "plt.xlabel('Latitude')\n",
    "plt.ylabel('Wind Speed (mph)')\n",
    "plt.title('Northern Hemisphere - Wind Speed vs. Latitude Linear Regression')"
   ]
  },
  {
   "cell_type": "code",
   "execution_count": null,
   "metadata": {},
   "outputs": [],
   "source": [
    "#Southern Hemisphere - Wind Speed (mph) vs. Latitude Linear Regression\n",
    "\n",
    "Linear_Regression(Lat_south, Wind_speed_south)\n",
    "plt.xlabel('Latitude')\n",
    "plt.ylabel('Wind Speed (mph)')\n",
    "plt.title('Southern Hemisphere - Wind Speed vs. Latitude Linear Regression')"
   ]
  },
  {
   "cell_type": "markdown",
   "metadata": {},
   "source": [
    "Observation: In the northern hemisphere, the higher the latitude the more outliers for wind speed. A correlation is hard to see. In the southern hemisphere, there are higher wind speeds in higher latitude areas. "
   ]
  },
  {
   "cell_type": "markdown",
   "metadata": {},
   "source": [
    " "
   ]
  }
 ],
 "metadata": {
  "kernelspec": {
   "display_name": "Python 3",
   "language": "python",
   "name": "python3"
  },
  "language_info": {
   "codemirror_mode": {
    "name": "ipython",
    "version": 3
   },
   "file_extension": ".py",
   "mimetype": "text/x-python",
   "name": "python",
   "nbconvert_exporter": "python",
   "pygments_lexer": "ipython3",
   "version": "3.7.4"
  }
 },
 "nbformat": 4,
 "nbformat_minor": 2
}
